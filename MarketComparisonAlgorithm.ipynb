{
  "nbformat": 4,
  "nbformat_minor": 0,
  "metadata": {
    "colab": {
      "provenance": [],
      "toc_visible": true,
      "authorship_tag": "ABX9TyOudtU+Qhz/zjTjvXosEWmw",
      "include_colab_link": true
    },
    "kernelspec": {
      "name": "python3",
      "display_name": "Python 3"
    },
    "language_info": {
      "name": "python"
    }
  },
  "cells": [
    {
      "cell_type": "markdown",
      "metadata": {
        "id": "view-in-github",
        "colab_type": "text"
      },
      "source": [
        "<a href=\"https://colab.research.google.com/github/Pedro-Menicucci/Portfolio/blob/main/MarketComparisonAlgorithm.ipynb\" target=\"_parent\"><img src=\"https://colab.research.google.com/assets/colab-badge.svg\" alt=\"Open In Colab\"/></a>"
      ]
    },
    {
      "cell_type": "code",
      "execution_count": 7,
      "metadata": {
        "id": "MsvyuHkOhsGt"
      },
      "outputs": [],
      "source": [
        "import numpy as np\n",
        "import pandas as pd\n",
        "import matplotlib.pyplot as plt\n"
      ]
    },
    {
      "cell_type": "code",
      "source": [
        "print(\"Welcome to the live DAX vs FTSE 100 Market Comparison Tool. Pulling data from the publicly available data sources (...). The algorithm creates a live visualization and comparison for both major European markets. CAC 40 coming soon.\")"
      ],
      "metadata": {
        "colab": {
          "base_uri": "https://localhost:8080/"
        },
        "id": "NaLWDJh3h_6q",
        "outputId": "a924694a-0e30-4f67-f4d4-c952b99d5efe"
      },
      "execution_count": 8,
      "outputs": [
        {
          "output_type": "stream",
          "name": "stdout",
          "text": [
            "Welcome to the live DAX vs FTSE 100 Market Comparison Tool. Pulling data from the publicly available data sources (...). The algorithm creates a live visualization and comparison for both major European markets. CAC 40 coming soon.\n"
          ]
        }
      ]
    },
    {
      "cell_type": "code",
      "source": [],
      "metadata": {
        "id": "M4BEr7JNifjJ"
      },
      "execution_count": null,
      "outputs": []
    }
  ]
}